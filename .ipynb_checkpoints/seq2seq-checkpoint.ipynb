{
 "cells": [
  {
   "cell_type": "code",
   "execution_count": 1,
   "id": "current-music",
   "metadata": {},
   "outputs": [],
   "source": [
    "%load_ext autoreload\n",
    "%autoreload 2\n",
    "from main import Config, load_data\n",
    "from seqmodels import *"
   ]
  },
  {
   "cell_type": "code",
   "execution_count": null,
   "id": "frequent-ghana",
   "metadata": {},
   "outputs": [],
   "source": [
    "## Space to explore\n",
    "# two types of encoders\n",
    "# batch size\n",
    "# lr\n",
    "# size of input seq and output seq\n",
    "# "
   ]
  },
  {
   "cell_type": "code",
   "execution_count": null,
   "id": "future-education",
   "metadata": {},
   "outputs": [],
   "source": [
    "## Output Summarization for error analytics\n",
    "## given a sequence -> reduce to output\n",
    "    # contains add to cart \n",
    "    # contains checkout \n",
    "    # loops between pages \n",
    "    # contains successful checkout \n",
    "    # faces issues after doing ... \n",
    "    # "
   ]
  },
  {
   "cell_type": "markdown",
   "id": "forced-payment",
   "metadata": {},
   "source": [
    "## Input processing and Embedding"
   ]
  },
  {
   "cell_type": "code",
   "execution_count": 2,
   "id": "crucial-fault",
   "metadata": {},
   "outputs": [],
   "source": [
    "# set config and read graph data in gretel format (will be re-written later)\n",
    "DOMAIN = 'pollini'\n",
    "config, DEVICE = load_config(DOMAIN)\n",
    "graph, trajectories, pairwise_node_features, _ = load_data(config)"
   ]
  },
  {
   "cell_type": "markdown",
   "id": "phantom-violation",
   "metadata": {},
   "source": [
    "## Model Building"
   ]
  },
  {
   "cell_type": "code",
   "execution_count": 4,
   "id": "international-dimension",
   "metadata": {
    "tags": []
   },
   "outputs": [
    {
     "name": "stderr",
     "output_type": "stream",
     "text": [
      "100%|██████████| 19907/19907 [03:55<00:00, 84.54it/s]\n"
     ]
    },
    {
     "name": "stdout",
     "output_type": "stream",
     "text": [
      "Epoch: 0 \t Loss: 1.8199539415907209\n"
     ]
    },
    {
     "name": "stderr",
     "output_type": "stream",
     "text": [
      "100%|██████████| 4986/4986 [00:24<00:00, 207.47it/s]\n",
      "  0%|          | 9/19907 [00:00<04:10, 79.51it/s]"
     ]
    },
    {
     "name": "stdout",
     "output_type": "stream",
     "text": [
      "0.01517940405336542 [0.11320755 0.20027498        nan 0.66911379        nan        nan\n",
      " 0.29134199        nan 0.28706999        nan 0.20352564 0.18055556\n",
      " 0.         0.35693889 0.                nan 0.         0.\n",
      "        nan 0.23647295 0.         0.02920962 0.03877551        nan\n",
      "        nan 0.                nan 0.22514868 0.         0.\n",
      " 0.02622951 0.         0.13761468        nan 0.                nan\n",
      "        nan] [0.43301243 0.16566386 0.1299639  0.09687124 0.06478139 0.04352186\n",
      " 0.02587244 0.00120337 0.         0.         0.         0.        ]\n"
     ]
    },
    {
     "name": "stderr",
     "output_type": "stream",
     "text": [
      "100%|██████████| 19907/19907 [04:02<00:00, 82.14it/s]\n"
     ]
    },
    {
     "name": "stdout",
     "output_type": "stream",
     "text": [
      "Epoch: 1 \t Loss: 1.5066447688926912\n"
     ]
    },
    {
     "name": "stderr",
     "output_type": "stream",
     "text": [
      "100%|██████████| 4976/4976 [00:25<00:00, 194.68it/s]\n",
      "  0%|          | 9/19907 [00:00<03:57, 83.71it/s]"
     ]
    },
    {
     "name": "stdout",
     "output_type": "stream",
     "text": [
      "0.01822507431369277 [0.12849162 0.26634383        nan 0.60033352        nan        nan\n",
      " 0.39211137        nan 0.31173594        nan 0.34122449 0.05\n",
      " 0.         0.4618204  0.                nan 0.         0.\n",
      "        nan 0.33756098 0.         0.26421405 0.0376569         nan\n",
      "        nan 0.                nan 0.18972952 0.         0.\n",
      " 0.06534508 0.         0.12280702        nan 0.                nan\n",
      "        nan] [0.4835209  0.22809486 0.16157556 0.1016881  0.05667203 0.03175241\n",
      " 0.01868971 0.00502412 0.         0.         0.         0.        ]\n"
     ]
    },
    {
     "name": "stderr",
     "output_type": "stream",
     "text": [
      "100%|██████████| 19907/19907 [04:00<00:00, 82.64it/s]\n"
     ]
    },
    {
     "name": "stdout",
     "output_type": "stream",
     "text": [
      "Epoch: 2 \t Loss: 1.350755250187278\n"
     ]
    },
    {
     "name": "stderr",
     "output_type": "stream",
     "text": [
      "100%|██████████| 4995/4995 [00:25<00:00, 197.90it/s]\n",
      "  0%|          | 9/19907 [00:00<03:58, 83.27it/s]"
     ]
    },
    {
     "name": "stdout",
     "output_type": "stream",
     "text": [
      "0.02333684481212701 [0.10132159 0.32121212        nan 0.55480984        nan        nan\n",
      " 0.34496124        nan 0.32356257        nan 0.33467418 0.25961538\n",
      " 0.         0.48273878 0.                nan 0.         0.\n",
      "        nan 0.36389685 0.         0.26182432 0.20678337        nan\n",
      "        nan 0.                nan 0.21370641 0.         0.\n",
      " 0.11816193 0.         0.13679245        nan 0.                nan\n",
      "        nan] [0.50630631 0.26466466 0.16936937 0.1041041  0.07687688 0.04024024\n",
      " 0.01821822 0.00600601 0.         0.         0.         0.        ]\n"
     ]
    },
    {
     "name": "stderr",
     "output_type": "stream",
     "text": [
      "100%|██████████| 19907/19907 [04:01<00:00, 82.55it/s]\n"
     ]
    },
    {
     "name": "stdout",
     "output_type": "stream",
     "text": [
      "Epoch: 3 \t Loss: 1.2280388864332639\n"
     ]
    },
    {
     "name": "stderr",
     "output_type": "stream",
     "text": [
      "100%|██████████| 4990/4990 [00:25<00:00, 193.88it/s]\n",
      "  0%|          | 9/19907 [00:00<04:01, 82.46it/s]"
     ]
    },
    {
     "name": "stdout",
     "output_type": "stream",
     "text": [
      "0.03276038867395411 [0.10543131 0.33489461        nan 0.4606681         nan        nan\n",
      " 0.37805401        nan 0.32013201        nan 0.36215753 0.14772727\n",
      " 0.         0.50772889 0.                nan 0.01176471 0.\n",
      "        nan 0.34832636 0.05179283 0.20940171 0.24427481        nan\n",
      "        nan 0.                nan 0.25782537 0.         0.\n",
      " 0.13261649 0.00796813 0.16731518        nan 0.                nan\n",
      "        nan] [0.48817635 0.25390782 0.17915832 0.12645291 0.08236473 0.04649299\n",
      " 0.02985972 0.01102204 0.         0.         0.         0.        ]\n"
     ]
    },
    {
     "name": "stderr",
     "output_type": "stream",
     "text": [
      "100%|██████████| 19907/19907 [03:59<00:00, 83.16it/s]\n"
     ]
    },
    {
     "name": "stdout",
     "output_type": "stream",
     "text": [
      "Epoch: 4 \t Loss: 1.1113004219018716\n"
     ]
    },
    {
     "name": "stderr",
     "output_type": "stream",
     "text": [
      "100%|██████████| 4989/4989 [00:25<00:00, 197.00it/s]"
     ]
    },
    {
     "name": "stdout",
     "output_type": "stream",
     "text": [
      "0.021300827511336343 [0.11111111 0.28584773        nan 0.41507373        nan        nan\n",
      " 0.32496697        nan 0.30333333        nan 0.34490566 0.1\n",
      " 0.         0.48143564 0.                nan 0.02597403 0.\n",
      "        nan 0.37371855 0.06912442 0.23832528 0.222334          nan\n",
      "        nan 0.                nan 0.21159543 0.01351351 0.\n",
      " 0.09140625 0.03378378 0.19565217        nan 0.                nan\n",
      "        nan] [0.48767288 0.24093005 0.14411706 0.10002004 0.05752656 0.03106835\n",
      " 0.01643616 0.00661455 0.         0.         0.         0.        ]\n"
     ]
    },
    {
     "name": "stderr",
     "output_type": "stream",
     "text": [
      "\n"
     ]
    },
    {
     "data": {
      "text/plain": [
       "<Figure size 432x288 with 0 Axes>"
      ]
     },
     "metadata": {},
     "output_type": "display_data"
    },
    {
     "data": {
      "image/png": "[encoded data removed]",
      "text/plain": [
       "<Figure size 432x288 with 1 Axes>"
      ]
     },
     "metadata": {
      "needs_background": "light"
     },
     "output_type": "display_data"
    }
   ],
   "source": [
    "hidden_size = 512 #HP\n",
    "dp = 0.1 #HP\n",
    "lr = 0.0025 #HP\n",
    "tf = 0.95 #HP\n",
    "\n",
    "n_node = graph.n_node\n",
    "encoder = EncoderRNN(n_node+2, hidden_size).to(DEVICE)\n",
    "attn_decoder = AttnDecoderRNN(hidden_size, n_node+2, dropout_p=dp).to(DEVICE)\n",
    "models = trainIters(trajectories[0], encoder, attn_decoder, trajectories[2],\n",
    "                    n_node+1, n_node, n_epoch=5, learning_rate=lr, tf=tf)"
   ]
  },
  {
   "cell_type": "markdown",
   "id": "lovely-mentor",
   "metadata": {},
   "source": [
    "## Save models"
   ]
  },
  {
   "cell_type": "code",
   "execution_count": null,
   "id": "opened-shade",
   "metadata": {},
   "outputs": [],
   "source": [
    "model_params = dict({\"hidden_size\": hidden_size,\"n_node\":n_node, \"n_in\" : n_in, \"n_out\":n_out, \"dp\":dp, \"lr\":lr})\n",
    "model_file = \"./models/\"+DOMAIN+\"_model.pt\"\n",
    "torch.save({\"params\": model_params,**models}, model_file)"
   ]
  },
  {
   "cell_type": "code",
   "execution_count": null,
   "id": "disturbed-survival",
   "metadata": {},
   "outputs": [],
   "source": [
    "temp = dict({\"encoder\" : models[\"encoder\"].state_dict(),\n",
    "             \"decoder\" : models[\"decoder\"].state_dict(), \n",
    "             \"optim_encoder\" : models[\"optim_encoder\"].state_dict(), \n",
    "             \"optim_decoder\": models[\"optim_decoder\"].state_dict()})\n",
    "torch.save({\"params\":model_params, **temp}, model_file)"
   ]
  },
  {
   "cell_type": "markdown",
   "id": "roman-march",
   "metadata": {},
   "source": [
    "## Metrics and Evaluation"
   ]
  },
  {
   "cell_type": "code",
   "execution_count": null,
   "id": "casual-mineral",
   "metadata": {
    "tags": []
   },
   "outputs": [],
   "source": [
    "training_pairs = tensors_from_paths(trajectories[2], n_in, n_out)\n",
    "print(evaluateRandomly(encoder, attn_decoder, training_pairs,\"fancy_grid\", n_out=n_out))"
   ]
  },
  {
   "cell_type": "code",
   "execution_count": null,
   "id": "interstate-monster",
   "metadata": {},
   "outputs": [],
   "source": [
    "import plotly.express as px\n",
    "lengths = []\n",
    "\n",
    "for i in trajectories[2]:\n",
    "    lengths.append(len(i))\n",
    "px.histogram(lengths, cumulative=True, histnorm='probability')"
   ]
  },
  {
   "cell_type": "markdown",
   "id": "foreign-number",
   "metadata": {},
   "source": [
    "## Sequence metrics"
   ]
  },
  {
   "cell_type": "markdown",
   "id": "living-investor",
   "metadata": {},
   "source": [
    "+ k step-accuracy (accuracy of the kth step)\n",
    "+ k-step overlap (overlap of predictions and actual)\n",
    "+ Node accuracy (how many times a node is predicted right)\n",
    "   - Presence\n",
    "   - Position\n",
    "+ bleu-score"
   ]
  },
  {
   "cell_type": "code",
   "execution_count": null,
   "id": "protecting-newsletter",
   "metadata": {
    "tags": []
   },
   "outputs": [],
   "source": [
    "class PathPredict(nn.Module):\n",
    "\n",
    "    def __init__(self, embedding_dim, hidden_dim, vocab_size, n_lstm, bid=False):\n",
    "        self.hidden_dim = hidden_dim\n",
    "        self.embedding = nn.Embedding(vocab_size, embedding_dim)\n",
    "        self.lstm1 = nn.LSTM(embedding_dim, hidden_dim, num_layers=n_lstm, bidirectional=bid)\n",
    "        self.h0 = torch.rand(self.num_layers, hidden_dim)  # batch_size?\n",
    "        self.c0 = torch.rand(self.num_layers, hidden_dim)  # batch_size?\n",
    "        self.linear = nn.Linear(n_emb*seq_len, n_out)\n",
    "        self.activation = nn.Sigmoid()\n",
    "\n",
    "    def foward(self, X):\n",
    "        emb = self.embedding(X) #[seq_len, bs]\n",
    "        x = self.lstm(emb) #[seq_len, bs, n_emb]\n",
    "        y = self.activation(self.linear(x.view(-1, 1)))\n"
   ]
  },
  {
   "cell_type": "code",
   "execution_count": null,
   "id": "indirect-magic",
   "metadata": {
    "tags": []
   },
   "outputs": [],
   "source": [
    "n_hid = 4\n",
    "n_inp = 3\n",
    "seq_len = 10\n",
    "num_layers = 2\n",
    "bid = 1\n",
    "\n",
    "lstm = nn.LSTM(n_inp, n_hid, num_layers)\n",
    "x = torch.rand(seq_len, 1, n_inp)\n",
    "h0 = torch.rand(num_layers, 1, n_hid)\n",
    "c0 = torch.rand(num_layers, 1, n_hid)\n",
    "y = lstm(x, (h0,c0))"
   ]
  },
  {
   "cell_type": "code",
   "execution_count": null,
   "id": "smaller-biology",
   "metadata": {},
   "outputs": [],
   "source": [
    "## lengths distribution "
   ]
  }
 ],
 "metadata": {
  "kernelspec": {
   "display_name": "Python 3",
   "language": "python",
   "name": "python3"
  },
  "language_info": {
   "codemirror_mode": {
    "name": "ipython",
    "version": 3
   },
   "file_extension": ".py",
   "mimetype": "text/x-python",
   "name": "python",
   "nbconvert_exporter": "python",
   "pygments_lexer": "ipython3",
   "version": "3.7.10"
  }
 },
 "nbformat": 4,
 "nbformat_minor": 5
}
