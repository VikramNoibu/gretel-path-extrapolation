{
 "metadata": {
  "language_info": {
   "codemirror_mode": {
    "name": "ipython",
    "version": 3
   },
   "file_extension": ".py",
   "mimetype": "text/x-python",
   "name": "python",
   "nbconvert_exporter": "python",
   "pygments_lexer": "ipython3",
   "version": "3.7.10-final"
  },
  "orig_nbformat": 2,
  "kernelspec": {
   "name": "python3710jvsc74a57bd08ac842fbef06358ef2c6f41ad353ae4cea1c978a2cd18e7dcf4d1e8fc7b2bf9e",
   "display_name": "Python 3.7.10 64-bit ('graphing': conda)"
  }
 },
 "nbformat": 4,
 "nbformat_minor": 2,
 "cells": [
  {
   "cell_type": "code",
   "execution_count": 1,
   "metadata": {},
   "outputs": [],
   "source": [
    "from main import *"
   ]
  },
  {
   "cell_type": "code",
   "execution_count": 2,
   "metadata": {},
   "outputs": [],
   "source": [
    "domain = 'pollini'\n",
    "config_path = \"config/\" + domain\n",
    "config = Config()\n",
    "config.load_from_file(config_path)"
   ]
  },
  {
   "cell_type": "code",
   "execution_count": 3,
   "metadata": {},
   "outputs": [
    {
     "output_type": "stream",
     "name": "stdout",
     "text": [
      "number of trajectories:  33181\n",
      "number of valid trajectories (length in [11, 50]): 17013\n",
      "trajectories length: min 11 | max 50 | mean 21.55\n",
      "split train/(valid)?/test 0.8/0.2\n"
     ]
    }
   ],
   "source": [
    "graph, trajectories, pairwise_node_features, _ = load_data(config)"
   ]
  },
  {
   "cell_type": "code",
   "execution_count": 4,
   "metadata": {},
   "outputs": [
    {
     "output_type": "execute_result",
     "data": {
      "text/plain": [
       "tensor([[0., 1., 1.,  ..., 2., 1., 2.],\n",
       "        [1., 0., 2.,  ..., 1., 1., 2.],\n",
       "        [1., 2., 0.,  ..., 2., 2., 3.],\n",
       "        ...,\n",
       "        [2., 2., 3.,  ..., 0., 2., 3.],\n",
       "        [1., 1., 2.,  ..., 2., 0., 2.],\n",
       "        [2., 2., 2.,  ..., 3., 1., 0.]])"
      ]
     },
     "metadata": {},
     "execution_count": 4
    }
   ],
   "source": [
    "graph._distances"
   ]
  },
  {
   "cell_type": "code",
   "execution_count": 5,
   "metadata": {},
   "outputs": [
    {
     "output_type": "execute_result",
     "data": {
      "text/plain": [
       "tensor([[4.0000e+00, 0.0000e+00, 8.2600e+02, 1.0040e+03],\n",
       "        [3.0000e+00, 4.0000e+00, 5.4712e+04, 4.5223e+04],\n",
       "        [4.0000e+00, 3.0000e+00, 3.1000e+01, 3.3000e+01],\n",
       "        [3.0000e+00, 1.0000e+00, 3.5180e+03, 3.6910e+03],\n",
       "        [3.0000e+00, 7.0000e+00, 7.2670e+03, 7.0390e+03],\n",
       "        [5.0000e+00, 4.0000e+00, 6.1600e+02, 5.0400e+02],\n",
       "        [5.0000e+00, 7.0000e+00, 1.3700e+02, 1.6200e+02],\n",
       "        [0.0000e+00, 2.0000e+00, 1.0000e+01, 1.1000e+01],\n",
       "        [1.0000e+01, 0.0000e+00, 1.5203e+04, 1.9792e+04],\n",
       "        [1.0000e+01, 3.0000e+00, 3.0000e+01, 2.9000e+01],\n",
       "        [1.0000e+00, 0.0000e+00, 3.3831e+04, 4.6606e+04],\n",
       "        [1.0000e+00, 3.0000e+00, 1.2000e+01, 1.2000e+01],\n",
       "        [7.0000e+00, 4.0000e+00, 1.8320e+03, 1.7330e+03],\n",
       "        [6.0000e+00, 2.0000e+00, 1.0700e+02, 1.0500e+02],\n",
       "        [7.0000e+00, 7.0000e+00, 3.0200e+02, 3.1000e+02],\n",
       "        [4.0000e+00, 2.0000e+00, 2.2500e+02, 2.0700e+02],\n",
       "        [3.0000e+00, 0.0000e+00, 2.3097e+04, 2.7655e+04],\n",
       "        [3.0000e+00, 3.0000e+00, 8.9000e+01, 9.1000e+01],\n",
       "        [5.0000e+00, 0.0000e+00, 4.6700e+02, 5.6400e+02],\n",
       "        [1.0000e+01, 2.0000e+00, 2.6000e+02, 2.5500e+02],\n",
       "        [0.0000e+00, 7.0000e+00, 2.0900e+02, 2.0400e+02],\n",
       "        [1.0000e+00, 2.0000e+00, 2.3900e+02, 2.4000e+02],\n",
       "        [0.0000e+00, 4.0000e+00, 9.1400e+02, 9.2300e+02],\n",
       "        [7.0000e+00, 0.0000e+00, 1.4690e+03, 1.6000e+03],\n",
       "        [6.0000e+00, 4.0000e+00, 8.8000e+02, 6.7200e+02],\n",
       "        [7.0000e+00, 3.0000e+00, 6.3500e+02, 7.2100e+02],\n",
       "        [6.0000e+00, 7.0000e+00, 1.9200e+02, 2.2200e+02],\n",
       "        [3.0000e+00, 2.0000e+00, 8.0100e+02, 7.7200e+02],\n",
       "        [4.0000e+00, 1.0000e+00, 2.0000e+00, 2.0000e+00],\n",
       "        [4.0000e+00, 7.0000e+00, 3.3300e+02, 3.5900e+02],\n",
       "        [5.0000e+00, 2.0000e+00, 4.5000e+01, 4.3000e+01],\n",
       "        [4.0000e+00, 4.0000e+00, 1.2770e+03, 9.7300e+02],\n",
       "        [0.0000e+00, 0.0000e+00, 1.1720e+03, 1.7940e+03],\n",
       "        [1.0000e+01, 4.0000e+00, 1.5071e+04, 1.1874e+04],\n",
       "        [1.0000e+00, 1.0000e+00, 1.5300e+02, 1.5300e+02],\n",
       "        [0.0000e+00, 3.0000e+00, 1.0000e+00, 1.0000e+00],\n",
       "        [1.0000e+01, 1.0000e+00, 1.1500e+02, 1.1200e+02],\n",
       "        [1.0000e+01, 7.0000e+00, 3.6340e+03, 4.1300e+03],\n",
       "        [1.0000e+00, 4.0000e+00, 5.8685e+04, 4.8600e+04],\n",
       "        [1.0000e+00, 7.0000e+00, 1.2082e+04, 1.2038e+04],\n",
       "        [7.0000e+00, 2.0000e+00, 5.4400e+02, 3.3400e+02],\n",
       "        [6.0000e+00, 0.0000e+00, 8.7500e+02, 1.1070e+03],\n",
       "        [6.0000e+00, 3.0000e+00, 6.0000e+00, 6.0000e+00]])"
      ]
     },
     "metadata": {},
     "execution_count": 5
    }
   ],
   "source": [
    "graph.nodes"
   ]
  },
  {
   "cell_type": "code",
   "execution_count": null,
   "metadata": {},
   "outputs": [],
   "source": []
  }
 ]
}