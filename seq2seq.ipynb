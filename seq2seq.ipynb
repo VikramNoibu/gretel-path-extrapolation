{
 "cells": [
  {
   "cell_type": "code",
   "execution_count": 6,
   "id": "enhanced-flush",
   "metadata": {},
   "outputs": [
    {
     "name": "stdout",
     "output_type": "stream",
     "text": [
      "The autoreload extension is already loaded. To reload it, use:\n",
      "  %reload_ext autoreload\n"
     ]
    }
   ],
   "source": [
    "%load_ext autoreload\n",
    "%autoreload 2\n",
    "from main import Config, load_data\n",
    "from seqmodels import *"
   ]
  },
  {
   "cell_type": "code",
   "execution_count": null,
   "id": "endless-niger",
   "metadata": {},
   "outputs": [],
   "source": [
    "## Space to explore\n",
    "# two types of encoders\n",
    "# batch size\n",
    "# lr\n",
    "# size of input seq and output seq\n",
    "# "
   ]
  },
  {
   "cell_type": "code",
   "execution_count": null,
   "id": "dense-ballot",
   "metadata": {},
   "outputs": [],
   "source": [
    "## Output Summarization for error analytics\n",
    "## given a sequence -> reduce to output\n",
    "    # contains add to cart \n",
    "    # contains checkout \n",
    "    # loops between pages \n",
    "    # contains successful checkout \n",
    "    # faces issues after doing ... \n",
    "    # "
   ]
  },
  {
   "cell_type": "markdown",
   "id": "announced-strip",
   "metadata": {},
   "source": [
    "## Input processing and Embedding"
   ]
  },
  {
   "cell_type": "code",
   "execution_count": 7,
   "id": "regional-grove",
   "metadata": {},
   "outputs": [],
   "source": [
    "# set config and read graph data in gretel format (will be re-written later)\n",
    "DOMAIN = 'pollini'\n",
    "config, DEVICE = load_config(DOMAIN)\n",
    "graph, trajectories, pairwise_node_features, _ = load_data(config)"
   ]
  },
  {
   "cell_type": "markdown",
   "id": "closed-concert",
   "metadata": {},
   "source": [
    "## Model Building"
   ]
  },
  {
   "cell_type": "code",
   "execution_count": null,
   "id": "employed-dryer",
   "metadata": {
    "tags": []
   },
   "outputs": [
    {
     "name": "stderr",
     "output_type": "stream",
     "text": [
      "100%|██████████| 19887/19887 [04:19<00:00, 76.64it/s]\n"
     ]
    },
    {
     "name": "stdout",
     "output_type": "stream",
     "text": [
      "Epoch: 0 \t Loss: 1.1930257188021967\n"
     ]
    },
    {
     "name": "stderr",
     "output_type": "stream",
     "text": [
      "100%|██████████| 4990/4990 [00:27<00:00, 180.75it/s]\n",
      "/home/vikramreddyardham/code/gretel-path-extrapolation/seqmodels.py:413: RuntimeWarning: invalid value encountered in true_divide\n",
      "  node_accuracy = node_accuracy/node_counts\n",
      "  0%|          | 7/19887 [00:00<04:50, 68.50it/s]"
     ]
    },
    {
     "name": "stdout",
     "output_type": "stream",
     "text": [
      "0.024363198156083718 [0.11486486 0.10805687        nan 0.27076591        nan        nan\n",
      " 0.34606841        nan 0.34606205        nan 0.48489543 0.125\n",
      " 0.04464286 0.27925697 0.                nan 0.         0.\n",
      "        nan 0.35378715 0.         0.23157895 0.26106195        nan\n",
      "        nan 0.                nan 0.2806574  0.         0.\n",
      " 0.21522922 0.03100775 0.06779661        nan 0.                nan\n",
      "        nan] [0.45691383 0.18617234 0.11362725 0.08176353 0.05971944 0.03446894\n",
      " 0.01923848 0.00460922 0.         0.         0.         0.        ]\n"
     ]
    },
    {
     "name": "stderr",
     "output_type": "stream",
     "text": [
      "100%|██████████| 19887/19887 [04:28<00:00, 73.93it/s]\n"
     ]
    },
    {
     "name": "stdout",
     "output_type": "stream",
     "text": [
      "Epoch: 1 \t Loss: 0.6994670320627377\n"
     ]
    },
    {
     "name": "stderr",
     "output_type": "stream",
     "text": [
      "100%|██████████| 4993/4993 [00:26<00:00, 185.45it/s]\n",
      "  0%|          | 7/19887 [00:00<05:04, 65.20it/s]"
     ]
    },
    {
     "name": "stdout",
     "output_type": "stream",
     "text": [
      "0.017754412984109062 [0.12765957 0.20714286        nan 0.27309237        nan        nan\n",
      " 0.34886818        nan 0.35913978        nan 0.3609923  0.06666667\n",
      " 0.         0.38726948 0.                nan 0.         0.0245098\n",
      "        nan 0.19979296 0.         0.18621974 0.24239244        nan\n",
      "        nan 0.                nan 0.25861401 0.         0.04651163\n",
      " 0.20772595 0.13268608 0.09166667        nan 0.                nan\n",
      "        nan] [0.47426397 0.22331264 0.11395954 0.06989786 0.05227318 0.01722411\n",
      " 0.00901262 0.00140196 0.         0.         0.         0.        ]\n"
     ]
    },
    {
     "name": "stderr",
     "output_type": "stream",
     "text": [
      "100%|██████████| 19887/19887 [04:20<00:00, 76.27it/s]\n"
     ]
    },
    {
     "name": "stdout",
     "output_type": "stream",
     "text": [
      "Epoch: 2 \t Loss: 0.4780713063612389\n"
     ]
    },
    {
     "name": "stderr",
     "output_type": "stream",
     "text": [
      "100%|██████████| 5001/5001 [00:24<00:00, 201.15it/s]\n",
      "  0%|          | 8/19887 [00:00<04:23, 75.51it/s]"
     ]
    },
    {
     "name": "stdout",
     "output_type": "stream",
     "text": [
      "0.02237973291552531 [0.11913357 0.2231286         nan 0.3054802         nan        nan\n",
      " 0.34001783        nan 0.36184211        nan 0.34628378 0.\n",
      " 0.00649351 0.40257461 0.                nan 0.07738095 0.02298851\n",
      "        nan 0.29657388 0.03791469 0.32512315 0.25643564        nan\n",
      "        nan 0.                nan 0.30879934 0.         0.04794521\n",
      " 0.19196429 0.09439528 0.11538462        nan 0.                nan\n",
      "        nan] [0.49190162 0.22955409 0.12877425 0.08438312 0.06158768 0.03039392\n",
      " 0.0109978  0.00339932 0.         0.         0.         0.        ]\n"
     ]
    },
    {
     "name": "stderr",
     "output_type": "stream",
     "text": [
      "100%|██████████| 19887/19887 [04:20<00:00, 76.47it/s]\n"
     ]
    },
    {
     "name": "stdout",
     "output_type": "stream",
     "text": [
      "Epoch: 3 \t Loss: 0.3460154459638334\n"
     ]
    },
    {
     "name": "stderr",
     "output_type": "stream",
     "text": [
      "100%|██████████| 5008/5008 [00:27<00:00, 185.35it/s]\n",
      "  0%|          | 7/19887 [00:00<04:51, 68.17it/s]"
     ]
    },
    {
     "name": "stdout",
     "output_type": "stream",
     "text": [
      "0.029981121631366577 [0.16666667 0.24259006        nan 0.32307692        nan        nan\n",
      " 0.35278631        nan 0.42773893        nan 0.3642794  0.\n",
      " 0.         0.40634006 0.                nan 0.08988764 0.04639175\n",
      "        nan 0.24479167 0.         0.25457571 0.23759542        nan\n",
      "        nan 0.04191617        nan 0.27448609 0.         0.10526316\n",
      " 0.26498423 0.06374502 0.09452736        nan 0.                nan\n",
      "        nan] [0.50798722 0.23642173 0.12819489 0.09704473 0.06948882 0.03214856\n",
      " 0.01038339 0.00399361 0.         0.         0.         0.        ]\n"
     ]
    },
    {
     "name": "stderr",
     "output_type": "stream",
     "text": [
      "100%|██████████| 19887/19887 [04:22<00:00, 75.63it/s]\n"
     ]
    },
    {
     "name": "stdout",
     "output_type": "stream",
     "text": [
      "Epoch: 4 \t Loss: 0.2725837894096221\n"
     ]
    },
    {
     "name": "stderr",
     "output_type": "stream",
     "text": [
      " 10%|▉         | 490/4984 [00:02<00:22, 199.39it/s]"
     ]
    }
   ],
   "source": [
    "hidden_size = 512 #HP\n",
    "dp = 0.1 #HP\n",
    "lr = 0.0025 #HP\n",
    "tf = 0.95 #HP\n",
    "\n",
    "n_node = graph.n_node\n",
    "encoder = EncoderRNN(n_node+2, hidden_size).to(DEVICE)\n",
    "attn_decoder = AttnDecoderRNN(hidden_size, n_node+2, dropout_p=dp).to(DEVICE)\n",
    "models = trainIters(trajectories[0], encoder, attn_decoder, trajectories[2],\n",
    "                    n_node+1, n_node, n_epoch=5, learning_rate=lr, tf=tf)"
   ]
  },
  {
   "cell_type": "markdown",
   "id": "bacterial-inflation",
   "metadata": {},
   "source": [
    "## Save models"
   ]
  },
  {
   "cell_type": "code",
   "execution_count": null,
   "id": "loving-martial",
   "metadata": {},
   "outputs": [],
   "source": [
    "model_params = dict({\"hidden_size\": hidden_size,\"n_node\":n_node, \"n_in\" : n_in, \"n_out\":n_out, \"dp\":dp, \"lr\":lr})\n",
    "model_file = \"./models/\"+DOMAIN+\"_model.pt\"\n",
    "torch.save({\"params\": model_params,**models}, model_file)"
   ]
  },
  {
   "cell_type": "code",
   "execution_count": null,
   "id": "continuous-necklace",
   "metadata": {},
   "outputs": [],
   "source": [
    "temp = dict({\"encoder\" : models[\"encoder\"].state_dict(),\n",
    "             \"decoder\" : models[\"decoder\"].state_dict(), \n",
    "             \"optim_encoder\" : models[\"optim_encoder\"].state_dict(), \n",
    "             \"optim_decoder\": models[\"optim_decoder\"].state_dict()})\n",
    "torch.save({\"params\":model_params, **temp}, model_file)"
   ]
  },
  {
   "cell_type": "markdown",
   "id": "touched-shield",
   "metadata": {},
   "source": [
    "## Metrics and Evaluation"
   ]
  },
  {
   "cell_type": "code",
   "execution_count": null,
   "id": "civic-salon",
   "metadata": {
    "tags": []
   },
   "outputs": [],
   "source": [
    "training_pairs = tensors_from_paths(trajectories[2], n_in, n_out)\n",
    "print(evaluateRandomly(encoder, attn_decoder, training_pairs,\"fancy_grid\", n_out=n_out))"
   ]
  },
  {
   "cell_type": "code",
   "execution_count": null,
   "id": "pending-mechanism",
   "metadata": {},
   "outputs": [],
   "source": [
    "import plotly.express as px\n",
    "lengths = []\n",
    "\n",
    "for i in trajectories[2]:\n",
    "    lengths.append(len(i))\n",
    "px.histogram(lengths, cumulative=True, histnorm='probability')"
   ]
  },
  {
   "cell_type": "markdown",
   "id": "increased-documentary",
   "metadata": {},
   "source": [
    "## Sequence metrics"
   ]
  },
  {
   "cell_type": "markdown",
   "id": "continued-appreciation",
   "metadata": {},
   "source": [
    "+ k step-accuracy (accuracy of the kth step)\n",
    "+ k-step overlap (overlap of predictions and actual)\n",
    "+ Node accuracy (how many times a node is predicted right)\n",
    "   - Presence\n",
    "   - Position\n",
    "+ bleu-score"
   ]
  },
  {
   "cell_type": "code",
   "execution_count": null,
   "id": "supported-clock",
   "metadata": {
    "tags": []
   },
   "outputs": [],
   "source": [
    "class PathPredict(nn.Module):\n",
    "\n",
    "    def __init__(self, embedding_dim, hidden_dim, vocab_size, n_lstm, bid=False):\n",
    "        self.hidden_dim = hidden_dim\n",
    "        self.embedding = nn.Embedding(vocab_size, embedding_dim)\n",
    "        self.lstm1 = nn.LSTM(embedding_dim, hidden_dim, num_layers=n_lstm, bidirectional=bid)\n",
    "        self.h0 = torch.rand(self.num_layers, hidden_dim)  # batch_size?\n",
    "        self.c0 = torch.rand(self.num_layers, hidden_dim)  # batch_size?\n",
    "        self.linear = nn.Linear(n_emb*seq_len, n_out)\n",
    "        self.activation = nn.Sigmoid()\n",
    "\n",
    "    def foward(self, X):\n",
    "        emb = self.embedding(X) #[seq_len, bs]\n",
    "        x = self.lstm(emb) #[seq_len, bs, n_emb]\n",
    "        y = self.activation(self.linear(x.view(-1, 1)))\n"
   ]
  },
  {
   "cell_type": "code",
   "execution_count": null,
   "id": "american-receipt",
   "metadata": {
    "tags": []
   },
   "outputs": [],
   "source": [
    "n_hid = 4\n",
    "n_inp = 3\n",
    "seq_len = 10\n",
    "num_layers = 2\n",
    "bid = 1\n",
    "\n",
    "lstm = nn.LSTM(n_inp, n_hid, num_layers)\n",
    "x = torch.rand(seq_len, 1, n_inp)\n",
    "h0 = torch.rand(num_layers, 1, n_hid)\n",
    "c0 = torch.rand(num_layers, 1, n_hid)\n",
    "y = lstm(x, (h0,c0))"
   ]
  },
  {
   "cell_type": "code",
   "execution_count": null,
   "id": "alpine-upper",
   "metadata": {},
   "outputs": [],
   "source": [
    "## lengths distribution "
   ]
  }
 ],
 "metadata": {
  "kernelspec": {
   "display_name": "Python 3",
   "language": "python",
   "name": "python3"
  },
  "language_info": {
   "codemirror_mode": {
    "name": "ipython",
    "version": 3
   },
   "file_extension": ".py",
   "mimetype": "text/x-python",
   "name": "python",
   "nbconvert_exporter": "python",
   "pygments_lexer": "ipython3",
   "version": "3.7.10"
  }
 },
 "nbformat": 4,
 "nbformat_minor": 5
}
